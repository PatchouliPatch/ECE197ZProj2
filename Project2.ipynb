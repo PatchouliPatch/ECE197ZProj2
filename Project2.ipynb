{
 "cells": [
  {
   "attachments": {},
   "cell_type": "markdown",
   "metadata": {},
   "source": [
    "# Project 2: Zero shot Key Word Spotting (KWS) using ImageBind\n",
    "Written by: Gabriel Enrique N. Kaquilala (2019-06319)\n",
    "\n",
    "note: please put this ipynb notebook within the directory of an ImageBind GitHub pull.\n",
    "(git clone https://github.com/facebookresearch/ImageBind)"
   ]
  },
  {
   "cell_type": "code",
   "execution_count": 19,
   "metadata": {},
   "outputs": [
    {
     "name": "stdout",
     "output_type": "stream",
     "text": [
      "Defaulting to user installation because normal site-packages is not writeable\n",
      "Requirement already satisfied: torch==1.13 in /home/gabriel/.local/lib/python3.10/site-packages (1.13.0)\n",
      "Requirement already satisfied: torchvision==0.14 in /home/gabriel/.local/lib/python3.10/site-packages (0.14.0)\n",
      "Requirement already satisfied: torchaudio==0.13 in /home/gabriel/.local/lib/python3.10/site-packages (0.13.0)\n",
      "Requirement already satisfied: nvidia-cublas-cu11==11.10.3.66 in /home/gabriel/.local/lib/python3.10/site-packages (from torch==1.13) (11.10.3.66)\n",
      "Requirement already satisfied: nvidia-cuda-runtime-cu11==11.7.99 in /home/gabriel/.local/lib/python3.10/site-packages (from torch==1.13) (11.7.99)\n",
      "Requirement already satisfied: nvidia-cudnn-cu11==8.5.0.96 in /home/gabriel/.local/lib/python3.10/site-packages (from torch==1.13) (8.5.0.96)\n",
      "Requirement already satisfied: typing-extensions in /home/gabriel/.local/lib/python3.10/site-packages (from torch==1.13) (4.6.2)\n",
      "Requirement already satisfied: nvidia-cuda-nvrtc-cu11==11.7.99 in /home/gabriel/.local/lib/python3.10/site-packages (from torch==1.13) (11.7.99)\n",
      "Requirement already satisfied: requests in /home/gabriel/.local/lib/python3.10/site-packages (from torchvision==0.14) (2.31.0)\n",
      "Requirement already satisfied: pillow!=8.3.*,>=5.3.0 in /usr/lib/python3/dist-packages (from torchvision==0.14) (9.0.1)\n",
      "Requirement already satisfied: numpy in /home/gabriel/.local/lib/python3.10/site-packages (from torchvision==0.14) (1.24.3)\n",
      "Requirement already satisfied: wheel in /usr/lib/python3/dist-packages (from nvidia-cublas-cu11==11.10.3.66->torch==1.13) (0.37.1)\n",
      "Requirement already satisfied: setuptools in /usr/lib/python3/dist-packages (from nvidia-cublas-cu11==11.10.3.66->torch==1.13) (59.6.0)\n",
      "Requirement already satisfied: idna<4,>=2.5 in /home/gabriel/.local/lib/python3.10/site-packages (from requests->torchvision==0.14) (3.4)\n",
      "Requirement already satisfied: certifi>=2017.4.17 in /home/gabriel/.local/lib/python3.10/site-packages (from requests->torchvision==0.14) (2023.5.7)\n",
      "Requirement already satisfied: urllib3<3,>=1.21.1 in /home/gabriel/.local/lib/python3.10/site-packages (from requests->torchvision==0.14) (2.0.2)\n",
      "Requirement already satisfied: charset-normalizer<4,>=2 in /home/gabriel/.local/lib/python3.10/site-packages (from requests->torchvision==0.14) (3.1.0)\n",
      "Note: you may need to restart the kernel to use updated packages.\n",
      "Defaulting to user installation because normal site-packages is not writeable\n",
      "Collecting pytorchvideo@ git+https://github.com/facebookresearch/pytorchvideo.git@28fe037d212663c6a24f373b94cc5d478c8c1a1d\n",
      "  Using cached pytorchvideo-0.1.5-py3-none-any.whl\n",
      "Requirement already satisfied: parameterized in /home/gabriel/.local/lib/python3.10/site-packages (from pytorchvideo@ git+https://github.com/facebookresearch/pytorchvideo.git@28fe037d212663c6a24f373b94cc5d478c8c1a1d) (0.9.0)\n",
      "Requirement already satisfied: fvcore in /home/gabriel/.local/lib/python3.10/site-packages (from pytorchvideo@ git+https://github.com/facebookresearch/pytorchvideo.git@28fe037d212663c6a24f373b94cc5d478c8c1a1d) (0.1.5.post20221221)\n",
      "Requirement already satisfied: av in /home/gabriel/.local/lib/python3.10/site-packages (from pytorchvideo@ git+https://github.com/facebookresearch/pytorchvideo.git@28fe037d212663c6a24f373b94cc5d478c8c1a1d) (10.0.0)\n",
      "Requirement already satisfied: networkx in /home/gabriel/.local/lib/python3.10/site-packages (from pytorchvideo@ git+https://github.com/facebookresearch/pytorchvideo.git@28fe037d212663c6a24f373b94cc5d478c8c1a1d) (3.1)\n",
      "Requirement already satisfied: iopath in /home/gabriel/.local/lib/python3.10/site-packages (from pytorchvideo@ git+https://github.com/facebookresearch/pytorchvideo.git@28fe037d212663c6a24f373b94cc5d478c8c1a1d) (0.1.10)\n",
      "Requirement already satisfied: termcolor>=1.1 in /home/gabriel/.local/lib/python3.10/site-packages (from fvcore->pytorchvideo@ git+https://github.com/facebookresearch/pytorchvideo.git@28fe037d212663c6a24f373b94cc5d478c8c1a1d) (2.3.0)\n",
      "Requirement already satisfied: yacs>=0.1.6 in /home/gabriel/.local/lib/python3.10/site-packages (from fvcore->pytorchvideo@ git+https://github.com/facebookresearch/pytorchvideo.git@28fe037d212663c6a24f373b94cc5d478c8c1a1d) (0.1.8)\n",
      "Requirement already satisfied: tqdm in /home/gabriel/.local/lib/python3.10/site-packages (from fvcore->pytorchvideo@ git+https://github.com/facebookresearch/pytorchvideo.git@28fe037d212663c6a24f373b94cc5d478c8c1a1d) (4.65.0)\n",
      "Requirement already satisfied: tabulate in /home/gabriel/.local/lib/python3.10/site-packages (from fvcore->pytorchvideo@ git+https://github.com/facebookresearch/pytorchvideo.git@28fe037d212663c6a24f373b94cc5d478c8c1a1d) (0.9.0)\n",
      "Requirement already satisfied: numpy in /home/gabriel/.local/lib/python3.10/site-packages (from fvcore->pytorchvideo@ git+https://github.com/facebookresearch/pytorchvideo.git@28fe037d212663c6a24f373b94cc5d478c8c1a1d) (1.24.3)\n",
      "Requirement already satisfied: Pillow in /usr/lib/python3/dist-packages (from fvcore->pytorchvideo@ git+https://github.com/facebookresearch/pytorchvideo.git@28fe037d212663c6a24f373b94cc5d478c8c1a1d) (9.0.1)\n",
      "Requirement already satisfied: pyyaml>=5.1 in /usr/lib/python3/dist-packages (from fvcore->pytorchvideo@ git+https://github.com/facebookresearch/pytorchvideo.git@28fe037d212663c6a24f373b94cc5d478c8c1a1d) (5.4.1)\n",
      "Requirement already satisfied: typing-extensions in /home/gabriel/.local/lib/python3.10/site-packages (from iopath->pytorchvideo@ git+https://github.com/facebookresearch/pytorchvideo.git@28fe037d212663c6a24f373b94cc5d478c8c1a1d) (4.6.2)\n",
      "Requirement already satisfied: portalocker in /home/gabriel/.local/lib/python3.10/site-packages (from iopath->pytorchvideo@ git+https://github.com/facebookresearch/pytorchvideo.git@28fe037d212663c6a24f373b94cc5d478c8c1a1d) (2.7.0)\n",
      "Note: you may need to restart the kernel to use updated packages.\n",
      "Defaulting to user installation because normal site-packages is not writeable\n",
      "Requirement already satisfied: timm==0.6.7 in /home/gabriel/.local/lib/python3.10/site-packages (0.6.7)\n",
      "Requirement already satisfied: torch>=1.4 in /home/gabriel/.local/lib/python3.10/site-packages (from timm==0.6.7) (1.13.0)\n",
      "Requirement already satisfied: torchvision in /home/gabriel/.local/lib/python3.10/site-packages (from timm==0.6.7) (0.14.0)\n",
      "Requirement already satisfied: typing-extensions in /home/gabriel/.local/lib/python3.10/site-packages (from torch>=1.4->timm==0.6.7) (4.6.2)\n",
      "Requirement already satisfied: nvidia-cuda-nvrtc-cu11==11.7.99 in /home/gabriel/.local/lib/python3.10/site-packages (from torch>=1.4->timm==0.6.7) (11.7.99)\n",
      "Requirement already satisfied: nvidia-cudnn-cu11==8.5.0.96 in /home/gabriel/.local/lib/python3.10/site-packages (from torch>=1.4->timm==0.6.7) (8.5.0.96)\n",
      "Requirement already satisfied: nvidia-cublas-cu11==11.10.3.66 in /home/gabriel/.local/lib/python3.10/site-packages (from torch>=1.4->timm==0.6.7) (11.10.3.66)\n",
      "Requirement already satisfied: nvidia-cuda-runtime-cu11==11.7.99 in /home/gabriel/.local/lib/python3.10/site-packages (from torch>=1.4->timm==0.6.7) (11.7.99)\n",
      "Requirement already satisfied: wheel in /usr/lib/python3/dist-packages (from nvidia-cublas-cu11==11.10.3.66->torch>=1.4->timm==0.6.7) (0.37.1)\n",
      "Requirement already satisfied: setuptools in /usr/lib/python3/dist-packages (from nvidia-cublas-cu11==11.10.3.66->torch>=1.4->timm==0.6.7) (59.6.0)\n",
      "Requirement already satisfied: pillow!=8.3.*,>=5.3.0 in /usr/lib/python3/dist-packages (from torchvision->timm==0.6.7) (9.0.1)\n",
      "Requirement already satisfied: requests in /home/gabriel/.local/lib/python3.10/site-packages (from torchvision->timm==0.6.7) (2.31.0)\n",
      "Requirement already satisfied: numpy in /home/gabriel/.local/lib/python3.10/site-packages (from torchvision->timm==0.6.7) (1.24.3)\n",
      "Requirement already satisfied: idna<4,>=2.5 in /home/gabriel/.local/lib/python3.10/site-packages (from requests->torchvision->timm==0.6.7) (3.4)\n",
      "Requirement already satisfied: urllib3<3,>=1.21.1 in /home/gabriel/.local/lib/python3.10/site-packages (from requests->torchvision->timm==0.6.7) (2.0.2)\n",
      "Requirement already satisfied: charset-normalizer<4,>=2 in /home/gabriel/.local/lib/python3.10/site-packages (from requests->torchvision->timm==0.6.7) (3.1.0)\n",
      "Requirement already satisfied: certifi>=2017.4.17 in /home/gabriel/.local/lib/python3.10/site-packages (from requests->torchvision->timm==0.6.7) (2023.5.7)\n",
      "Note: you may need to restart the kernel to use updated packages.\n",
      "Defaulting to user installation because normal site-packages is not writeable\n",
      "Requirement already satisfied: ftfy in /home/gabriel/.local/lib/python3.10/site-packages (6.1.1)\n",
      "Requirement already satisfied: regex in /home/gabriel/.local/lib/python3.10/site-packages (2023.5.5)\n",
      "Requirement already satisfied: einops in /home/gabriel/.local/lib/python3.10/site-packages (0.6.1)\n",
      "Requirement already satisfied: fvcore in /home/gabriel/.local/lib/python3.10/site-packages (0.1.5.post20221221)\n",
      "Requirement already satisfied: decord==0.6.0 in /home/gabriel/.local/lib/python3.10/site-packages (0.6.0)\n",
      "Requirement already satisfied: iopath in /home/gabriel/.local/lib/python3.10/site-packages (0.1.10)\n",
      "Requirement already satisfied: numpy>=1.14.0 in /home/gabriel/.local/lib/python3.10/site-packages (from decord==0.6.0) (1.24.3)\n",
      "Requirement already satisfied: wcwidth>=0.2.5 in /home/gabriel/.local/lib/python3.10/site-packages (from ftfy) (0.2.6)\n",
      "Requirement already satisfied: yacs>=0.1.6 in /home/gabriel/.local/lib/python3.10/site-packages (from fvcore) (0.1.8)\n",
      "Requirement already satisfied: tqdm in /home/gabriel/.local/lib/python3.10/site-packages (from fvcore) (4.65.0)\n",
      "Requirement already satisfied: tabulate in /home/gabriel/.local/lib/python3.10/site-packages (from fvcore) (0.9.0)\n",
      "Requirement already satisfied: termcolor>=1.1 in /home/gabriel/.local/lib/python3.10/site-packages (from fvcore) (2.3.0)\n",
      "Requirement already satisfied: Pillow in /usr/lib/python3/dist-packages (from fvcore) (9.0.1)\n",
      "Requirement already satisfied: pyyaml>=5.1 in /usr/lib/python3/dist-packages (from fvcore) (5.4.1)\n",
      "Requirement already satisfied: portalocker in /home/gabriel/.local/lib/python3.10/site-packages (from iopath) (2.7.0)\n",
      "Requirement already satisfied: typing-extensions in /home/gabriel/.local/lib/python3.10/site-packages (from iopath) (4.6.2)\n",
      "Note: you may need to restart the kernel to use updated packages.\n",
      "Defaulting to user installation because normal site-packages is not writeable\n",
      "Requirement already satisfied: matplotlib in /home/gabriel/.local/lib/python3.10/site-packages (3.7.1)\n",
      "Requirement already satisfied: types-regex in /home/gabriel/.local/lib/python3.10/site-packages (2023.6.3.0)\n",
      "Requirement already satisfied: mayavi in /home/gabriel/.local/lib/python3.10/site-packages (4.8.1)\n",
      "Requirement already satisfied: cartopy in /home/gabriel/.local/lib/python3.10/site-packages (0.21.1)\n",
      "Requirement already satisfied: pydub in /home/gabriel/.local/lib/python3.10/site-packages (0.25.1)\n",
      "Requirement already satisfied: ipywebrtc in /home/gabriel/.local/lib/python3.10/site-packages (0.6.0)\n",
      "Requirement already satisfied: ipywidgets in /home/gabriel/.local/lib/python3.10/site-packages (8.0.6)\n",
      "Requirement already satisfied: fonttools>=4.22.0 in /home/gabriel/.local/lib/python3.10/site-packages (from matplotlib) (4.39.4)\n",
      "Requirement already satisfied: kiwisolver>=1.0.1 in /home/gabriel/.local/lib/python3.10/site-packages (from matplotlib) (1.4.4)\n",
      "Requirement already satisfied: contourpy>=1.0.1 in /home/gabriel/.local/lib/python3.10/site-packages (from matplotlib) (1.0.7)\n",
      "Requirement already satisfied: packaging>=20.0 in /home/gabriel/.local/lib/python3.10/site-packages (from matplotlib) (23.1)\n",
      "Requirement already satisfied: pyparsing>=2.3.1 in /usr/lib/python3/dist-packages (from matplotlib) (2.4.7)\n",
      "Requirement already satisfied: pillow>=6.2.0 in /usr/lib/python3/dist-packages (from matplotlib) (9.0.1)\n",
      "Requirement already satisfied: cycler>=0.10 in /home/gabriel/.local/lib/python3.10/site-packages (from matplotlib) (0.11.0)\n",
      "Requirement already satisfied: python-dateutil>=2.7 in /home/gabriel/.local/lib/python3.10/site-packages (from matplotlib) (2.8.2)\n",
      "Requirement already satisfied: numpy>=1.20 in /home/gabriel/.local/lib/python3.10/site-packages (from matplotlib) (1.24.3)\n",
      "Requirement already satisfied: envisage in /home/gabriel/.local/lib/python3.10/site-packages (from mayavi) (7.0.3)\n",
      "Requirement already satisfied: pyface>=6.1.1 in /home/gabriel/.local/lib/python3.10/site-packages (from mayavi) (8.0.0)\n",
      "Requirement already satisfied: traitsui>=7.0.0 in /home/gabriel/.local/lib/python3.10/site-packages (from mayavi) (8.0.0)\n",
      "Requirement already satisfied: pygments in /home/gabriel/.local/lib/python3.10/site-packages (from mayavi) (2.15.1)\n",
      "Requirement already satisfied: traits>=6.0.0 in /home/gabriel/.local/lib/python3.10/site-packages (from mayavi) (6.4.1)\n",
      "Requirement already satisfied: vtk in /home/gabriel/.local/lib/python3.10/site-packages (from mayavi) (9.2.6)\n",
      "Requirement already satisfied: apptools in /home/gabriel/.local/lib/python3.10/site-packages (from mayavi) (5.2.0)\n",
      "Requirement already satisfied: shapely>=1.6.4 in /home/gabriel/.local/lib/python3.10/site-packages (from cartopy) (2.0.1)\n",
      "Requirement already satisfied: pyproj>=3.0.0 in /home/gabriel/.local/lib/python3.10/site-packages (from cartopy) (3.5.0)\n",
      "Requirement already satisfied: pyshp>=2.1 in /home/gabriel/.local/lib/python3.10/site-packages (from cartopy) (2.3.1)\n",
      "Requirement already satisfied: ipykernel>=4.5.1 in /home/gabriel/.local/lib/python3.10/site-packages (from ipywidgets) (6.23.1)\n",
      "Requirement already satisfied: jupyterlab-widgets~=3.0.7 in /home/gabriel/.local/lib/python3.10/site-packages (from ipywidgets) (3.0.7)\n",
      "Requirement already satisfied: ipython>=6.1.0 in /home/gabriel/.local/lib/python3.10/site-packages (from ipywidgets) (8.13.2)\n",
      "Requirement already satisfied: widgetsnbextension~=4.0.7 in /home/gabriel/.local/lib/python3.10/site-packages (from ipywidgets) (4.0.7)\n",
      "Requirement already satisfied: traitlets>=4.3.1 in /home/gabriel/.local/lib/python3.10/site-packages (from ipywidgets) (5.9.0)\n",
      "Requirement already satisfied: jupyter-core!=5.0.*,>=4.12 in /home/gabriel/.local/lib/python3.10/site-packages (from ipykernel>=4.5.1->ipywidgets) (5.3.0)\n",
      "Requirement already satisfied: matplotlib-inline>=0.1 in /home/gabriel/.local/lib/python3.10/site-packages (from ipykernel>=4.5.1->ipywidgets) (0.1.6)\n",
      "Requirement already satisfied: jupyter-client>=6.1.12 in /home/gabriel/.local/lib/python3.10/site-packages (from ipykernel>=4.5.1->ipywidgets) (8.2.0)\n",
      "Requirement already satisfied: debugpy>=1.6.5 in /home/gabriel/.local/lib/python3.10/site-packages (from ipykernel>=4.5.1->ipywidgets) (1.6.7)\n",
      "Requirement already satisfied: pyzmq>=20 in /home/gabriel/.local/lib/python3.10/site-packages (from ipykernel>=4.5.1->ipywidgets) (23.2.1)\n",
      "Requirement already satisfied: nest-asyncio in /home/gabriel/.local/lib/python3.10/site-packages (from ipykernel>=4.5.1->ipywidgets) (1.5.6)\n",
      "Requirement already satisfied: tornado>=6.1 in /home/gabriel/.local/lib/python3.10/site-packages (from ipykernel>=4.5.1->ipywidgets) (6.3.2)\n",
      "Requirement already satisfied: comm>=0.1.1 in /home/gabriel/.local/lib/python3.10/site-packages (from ipykernel>=4.5.1->ipywidgets) (0.1.3)\n",
      "Requirement already satisfied: psutil in /usr/lib/python3/dist-packages (from ipykernel>=4.5.1->ipywidgets) (5.9.0)\n",
      "Requirement already satisfied: prompt-toolkit!=3.0.37,<3.1.0,>=3.0.30 in /home/gabriel/.local/lib/python3.10/site-packages (from ipython>=6.1.0->ipywidgets) (3.0.38)\n",
      "Requirement already satisfied: jedi>=0.16 in /home/gabriel/.local/lib/python3.10/site-packages (from ipython>=6.1.0->ipywidgets) (0.18.2)\n",
      "Requirement already satisfied: pexpect>4.3 in /usr/lib/python3/dist-packages (from ipython>=6.1.0->ipywidgets) (4.8.0)\n",
      "Requirement already satisfied: decorator in /home/gabriel/.local/lib/python3.10/site-packages (from ipython>=6.1.0->ipywidgets) (5.1.1)\n",
      "Requirement already satisfied: backcall in /home/gabriel/.local/lib/python3.10/site-packages (from ipython>=6.1.0->ipywidgets) (0.2.0)\n",
      "Requirement already satisfied: pickleshare in /home/gabriel/.local/lib/python3.10/site-packages (from ipython>=6.1.0->ipywidgets) (0.7.5)\n",
      "Requirement already satisfied: stack-data in /home/gabriel/.local/lib/python3.10/site-packages (from ipython>=6.1.0->ipywidgets) (0.6.2)\n",
      "Requirement already satisfied: certifi in /home/gabriel/.local/lib/python3.10/site-packages (from pyproj>=3.0.0->cartopy) (2023.5.7)\n",
      "Requirement already satisfied: six>=1.5 in /usr/lib/python3/dist-packages (from python-dateutil>=2.7->matplotlib) (1.16.0)\n",
      "Requirement already satisfied: configobj in /home/gabriel/.local/lib/python3.10/site-packages (from apptools->mayavi) (5.0.8)\n",
      "Requirement already satisfied: setuptools in /usr/lib/python3/dist-packages (from envisage->mayavi) (59.6.0)\n",
      "Requirement already satisfied: parso<0.9.0,>=0.8.0 in /home/gabriel/.local/lib/python3.10/site-packages (from jedi>=0.16->ipython>=6.1.0->ipywidgets) (0.8.3)\n",
      "Requirement already satisfied: platformdirs>=2.5 in /home/gabriel/.local/lib/python3.10/site-packages (from jupyter-core!=5.0.*,>=4.12->ipykernel>=4.5.1->ipywidgets) (3.5.1)\n",
      "Requirement already satisfied: wcwidth in /home/gabriel/.local/lib/python3.10/site-packages (from prompt-toolkit!=3.0.37,<3.1.0,>=3.0.30->ipython>=6.1.0->ipywidgets) (0.2.6)\n",
      "Requirement already satisfied: asttokens>=2.1.0 in /home/gabriel/.local/lib/python3.10/site-packages (from stack-data->ipython>=6.1.0->ipywidgets) (2.2.1)\n",
      "Requirement already satisfied: executing>=1.2.0 in /home/gabriel/.local/lib/python3.10/site-packages (from stack-data->ipython>=6.1.0->ipywidgets) (1.2.0)\n",
      "Requirement already satisfied: pure-eval in /home/gabriel/.local/lib/python3.10/site-packages (from stack-data->ipython>=6.1.0->ipywidgets) (0.2.2)\n",
      "Note: you may need to restart the kernel to use updated packages.\n",
      "[sudo] password for gabriel: \n"
     ]
    }
   ],
   "source": [
    "# install requirements:\n",
    "%pip install torch==1.13 torchvision==0.14 torchaudio==0.13\n",
    "%pip install pytorchvideo@git+https://github.com/facebookresearch/pytorchvideo.git@28fe037d212663c6a24f373b94cc5d478c8c1a1d\n",
    "%pip install timm==0.6.7\n",
    "%pip install ftfy regex einops fvcore decord==0.6.0 iopath\n",
    "%pip install matplotlib types-regex mayavi cartopy pydub ipywebrtc ipywidgets\n",
    "!sudo apt install ffmpeg # be sure to install ffmpeg externally with a terminal if you cannot enter your password."
   ]
  },
  {
   "cell_type": "code",
   "execution_count": 1,
   "metadata": {},
   "outputs": [
    {
     "name": "stderr",
     "output_type": "stream",
     "text": [
      "/home/gabriel/.local/lib/python3.10/site-packages/torchvision/transforms/_functional_video.py:6: UserWarning: The 'torchvision.transforms._functional_video' module is deprecated since 0.12 and will be removed in the future. Please use the 'torchvision.transforms.functional' module instead.\n",
      "  warnings.warn(\n",
      "/home/gabriel/.local/lib/python3.10/site-packages/torchvision/transforms/_transforms_video.py:22: UserWarning: The 'torchvision.transforms._transforms_video' module is deprecated since 0.12 and will be removed in the future. Please use the 'torchvision.transforms' module instead.\n",
      "  warnings.warn(\n"
     ]
    }
   ],
   "source": [
    "# import necessary modules\n",
    "from torch import Tensor\n",
    "import torch, torchaudio\n",
    "import data\n",
    "from models import imagebind_model\n",
    "from models.imagebind_model import ModalityType\n",
    "import os\n",
    "import numpy as np\n",
    "from torchaudio.datasets import SPEECHCOMMANDS\n",
    "from pydub import AudioSegment\n",
    "from pydub.utils import make_chunks\n",
    "import random\n",
    "from ipywidgets import Audio\n",
    "from ipywebrtc import CameraStream, AudioRecorder"
   ]
  },
  {
   "attachments": {},
   "cell_type": "markdown",
   "metadata": {},
   "source": [
    "Main Code Area: Data Preparation"
   ]
  },
  {
   "cell_type": "code",
   "execution_count": 2,
   "metadata": {},
   "outputs": [
    {
     "name": "stdout",
     "output_type": "stream",
     "text": [
      "10428\n",
      "10428\n"
     ]
    }
   ],
   "source": [
    "root = os.getcwd()\n",
    "training_split = torchaudio.datasets.SPEECHCOMMANDS(root=root,download=True,subset='training') # necessary to generate \"unknown\" split\n",
    "validation_split = torchaudio.datasets.SPEECHCOMMANDS(root=root,download=True,subset='validation')\n",
    "labels = ['unknown','silence','right', 'eight', 'cat', 'tree', 'backward', 'learn', 'bed', \n",
    "'happy', 'go', 'dog', 'no', 'wow', 'follow', 'nine', 'left', \n",
    "'stop', 'three', 'sheila', 'one', 'bird', 'zero', 'seven', 'up',\n",
    " 'visual', 'marvin', 'two', 'house', 'down', 'six', 'yes', \n",
    " 'on', 'five', 'forward', 'off', 'four']\n",
    "\n",
    "# get validation split:\n",
    "validation_paths, val_labels = [], []\n",
    "\n",
    "for i in range(9981): #there are 9981 entries in the validation split. n = [0, 9980]\n",
    "    \n",
    "    path = validation_split.get_metadata(i)[0]\n",
    "    label = validation_split.get_metadata(i)[2]\n",
    "    validation_paths.append(os.path.join(root,\"SpeechCommands\",path))\n",
    "    val_labels.append(label)\n",
    "\n",
    "# Loading the silence and unknown datasets:\n",
    "\n",
    "# Note: there will be only (sizeof(training) // 35) instances of both data sets used\n",
    "# for this zero-shot evaluation as described in https://github.com/roatienza/Deep-Learning-Experiments/blob/master/versions/2022/supervised/python/kws_demo.ipynb\n",
    "\n",
    "# Silence is from the _background_noise_ folder:\n",
    "path = os.path.join(root, \"SpeechCommands\",\"speech_commands_v0.02\",\"_background_noise_\")\n",
    "silence_paths = [os.path.join(path,p) for p in os.listdir(path) if p.endswith('.wav')]\n",
    "\n",
    "# there should be 6 instances of silence\n",
    "# creating 285 instances of silence / background noise:\n",
    "silence_audios, captions = [], []\n",
    "for path in silence_paths:\n",
    "    audio = AudioSegment.from_file(path,\"wav\")\n",
    "    chunks = make_chunks(audio, 2500) # ImageBind requires at least ~2 seconds of audio\n",
    "    _, fname = os.path.split(path)\n",
    "\n",
    "    for i, chunk in enumerate(chunks):\n",
    "        data_chunk = chunk.set_frame_rate(44100) # set frame rate to 44100 to stay consistent with samples\n",
    "        data_chunk = AudioSegment.from_mono_audiosegments(data_chunk,data_chunk) # convert to stereo to stay consistent with samples\n",
    "        chunk_name = f\"{fname}{i}.wav\"\n",
    "        chunk_name = os.path.join(root,'edited',chunk_name)\n",
    "        chunk.export(chunk_name,format='wav')\n",
    "        silence_audios.append(os.path.join(root,'edited',chunk_name))\n",
    "        captions.append('silence')\n",
    "\n",
    "validation_paths += silence_audios # concatenate silence to validation paths\n",
    "val_labels += captions\n",
    "\n",
    "# Unknown are random words from the train data set labeled as \"unknown\":\n",
    "# speech_commands_v0.02's val split has 9981, thus sizeof(unknown) = 285\n",
    "unknown_paths, unknown_labels = [], []\n",
    "for i in range(285):\n",
    "\n",
    "    x = random.randint(0,84842)\n",
    "    file_path = os.path.join(root,\"SpeechCommands\",training_split.get_metadata(x)[0])\n",
    "    unknown_paths.append(file_path)\n",
    "    label = training_split.get_metadata(x)[2]\n",
    "    unknown_labels.append(label)\n",
    "\n",
    "del training_split # free up RAM\n",
    "\n",
    "validation_paths += unknown_paths\n",
    "val_labels += unknown_labels\n",
    "\n",
    "print(len(val_labels)) # should be 10428\n",
    "print(len(val_labels)) # also should be 10428\n"
   ]
  },
  {
   "attachments": {},
   "cell_type": "markdown",
   "metadata": {},
   "source": [
    "Main Code Area: Inference"
   ]
  },
  {
   "cell_type": "code",
   "execution_count": 5,
   "metadata": {},
   "outputs": [
    {
     "name": "stderr",
     "output_type": "stream",
     "text": [
      "WARNING:root:Large gap between audio n_frames(98) and target_length (204). Is the audio_target_length setting correct?\n",
      "WARNING:root:Large gap between audio n_frames(98) and target_length (204). Is the audio_target_length setting correct?\n",
      "WARNING:root:Large gap between audio n_frames(98) and target_length (204). Is the audio_target_length setting correct?\n"
     ]
    },
    {
     "name": "stdout",
     "output_type": "stream",
     "text": [
      "Predicted Label: up\n",
      "Ground Truth: yes\n"
     ]
    },
    {
     "data": {
      "application/vnd.jupyter.widget-view+json": {
       "model_id": "c2b0590bc25e494d9d150e785bed4939",
       "version_major": 2,
       "version_minor": 0
      },
      "text/plain": [
       "Audio(value=b'RIFF$}\\x00\\x00WAVEfmt \\x10\\x00\\x00\\x00\\x01\\x00\\x01\\x00\\x80>\\x00\\x00\\x00}\\x00\\x00\\x02\\x00\\x10\\x00…"
      ]
     },
     "execution_count": 5,
     "metadata": {},
     "output_type": "execute_result"
    }
   ],
   "source": [
    "text_list = labels\n",
    "audio_paths = validation_paths\n",
    "\n",
    "#device = \"cuda\" if torch.cuda.is_available() else \"cpu\"\n",
    "device = \"cpu\" # uncomment this if CUDA runs out of memory when running the evaluator\n",
    "\n",
    "# Instantiate model\n",
    "model = imagebind_model.imagebind_huge(pretrained=True)\n",
    "model.eval()\n",
    "model.to(device)\n",
    "\n",
    "q = random.randint(0,10428)\n",
    "# Load data\n",
    "inputs = {\n",
    "    ModalityType.TEXT: data.load_and_transform_text(text_list, device),\n",
    "    ModalityType.AUDIO: data.load_and_transform_audio_data([audio_paths[q]], device),\n",
    "}\n",
    "\n",
    "audio_widget = Audio.from_file(audio_paths[q]) # used to play randomly-selected audio\n",
    "\n",
    "with torch.no_grad():\n",
    "    embeddings = model(inputs)\n",
    "\n",
    "# we are only interested in Audio x Text since it is what we have\n",
    "if device == 'cpu':\n",
    "    result = torch.softmax(embeddings[ModalityType.AUDIO] @ embeddings[ModalityType.TEXT].T, dim=-1)[0].numpy(),\n",
    "if device == 'cuda':\n",
    "    result = torch.softmax(embeddings[ModalityType.AUDIO] @ embeddings[ModalityType.TEXT].T, dim=-1)[0].to_cpu().numpy(), # move data to CPU if used CUDA\n",
    "result = np.argmax(result)\n",
    "\n",
    "print('Predicted Label:',labels[result])\n",
    "print('Ground Truth:',val_labels[q])\n",
    "audio_widget"
   ]
  },
  {
   "attachments": {},
   "cell_type": "markdown",
   "metadata": {},
   "source": [
    "User Input:\n",
    "In this code block, you can try out the KWS function by recording your own voice and using it as an input.\n"
   ]
  },
  {
   "cell_type": "code",
   "execution_count": 3,
   "metadata": {},
   "outputs": [
    {
     "data": {
      "application/vnd.jupyter.widget-view+json": {
       "model_id": "53e1ae0d9f3f4f07b5c9d4a7c491955f",
       "version_major": 2,
       "version_minor": 0
      },
      "text/plain": [
       "AudioRecorder(audio=Audio(value=b'', format='webm'), stream=CameraStream(constraints={'audio': True, 'video': …"
      ]
     },
     "execution_count": 3,
     "metadata": {},
     "output_type": "execute_result"
    }
   ],
   "source": [
    "camera = CameraStream(constrains = {'audio':True,'video':False})\n",
    "recorder = AudioRecorder(stream=camera)\n",
    "recorder"
   ]
  },
  {
   "cell_type": "code",
   "execution_count": 4,
   "metadata": {},
   "outputs": [
    {
     "name": "stdout",
     "output_type": "stream",
     "text": [
      "Predicted Label: learn\n"
     ]
    }
   ],
   "source": [
    "with open('recording.webm', 'wb') as f:\n",
    "    f.write(recorder.audio.value)\n",
    "!ffmpeg -i recording.webm -ac 1 -f wav file.wav -y -hide_banner -loglevel panic\n",
    "\n",
    "text_list = labels\n",
    "\n",
    "# Instantiate model\n",
    "model = imagebind_model.imagebind_huge(pretrained=True)\n",
    "model.eval()\n",
    "model.to(device)\n",
    "\n",
    "# Load data\n",
    "inputs = {\n",
    "    ModalityType.TEXT: data.load_and_transform_text(text_list, device),\n",
    "    ModalityType.AUDIO: data.load_and_transform_audio_data(['file.wav'], device),\n",
    "}\n",
    "\n",
    "with torch.no_grad():\n",
    "    embeddings = model(inputs)\n",
    "\n",
    "# we are only interested in Audio x Text since it is what we have\n",
    "if device == 'cpu':\n",
    "    result = torch.softmax(embeddings[ModalityType.AUDIO] @ embeddings[ModalityType.TEXT].T, dim=-1)[0].numpy(),\n",
    "if device == 'cuda':\n",
    "    result = torch.softmax(embeddings[ModalityType.AUDIO] @ embeddings[ModalityType.TEXT].T, dim=-1)[0].to_cpu().numpy(), # move data to CPU if used CUDA\n",
    "result = np.argmax(result)\n",
    "\n",
    "print('Predicted Label:',labels[result])"
   ]
  },
  {
   "attachments": {},
   "cell_type": "markdown",
   "metadata": {},
   "source": [
    "Evaluation Script:"
   ]
  },
  {
   "cell_type": "code",
   "execution_count": null,
   "metadata": {},
   "outputs": [],
   "source": [
    "correct_answers = 0\n",
    "data_points = 10 # Set data points here. Maximum of 10428\n",
    "text_list = labels\n",
    "audio_paths = validation_paths\n",
    "\n",
    "#device = \"cuda\" if torch.cuda.is_available() else \"cpu\"\n",
    "device = \"cpu\" # uncomment this if CUDA runs out of memory when running the evaluator\n",
    "\n",
    "# Instantiate model\n",
    "model = imagebind_model.imagebind_huge(pretrained=True)\n",
    "model.eval()\n",
    "model.to(device)\n",
    "\n",
    "for i in range(data_points):\n",
    "    print(f\"Progress: [{i}/{data_points}]\")\n",
    "    # Load data\n",
    "    inputs = {\n",
    "        ModalityType.TEXT: data.load_and_transform_text(text_list, device),\n",
    "        ModalityType.AUDIO: data.load_and_transform_audio_data([audio_paths[i]], device),\n",
    "    }\n",
    "\n",
    "    with torch.no_grad():\n",
    "        embeddings = model(inputs)\n",
    "\n",
    "    # we are only interested in Audio x Text since it is what we have\n",
    "    if device == 'cpu':\n",
    "        result = torch.softmax(embeddings[ModalityType.AUDIO] @ embeddings[ModalityType.TEXT].T, dim=-1)[0].numpy(),\n",
    "    if device == 'cuda':\n",
    "        result = torch.softmax(embeddings[ModalityType.AUDIO] @ embeddings[ModalityType.TEXT].T, dim=-1)[0].to_cpu().numpy(), # move data to CPU if used CUDA\n",
    "    result = np.argmax(result)\n",
    "    \n",
    "    if labels[result] == val_labels[i]:\n",
    "        correct_answers += 1\n",
    "\n",
    "print(f\"Model Accuracy [{data_points}]:\",correct_answers / data_points) # Code block was not run to full length with student's computer due to limited resources"
   ]
  },
  {
   "attachments": {},
   "cell_type": "markdown",
   "metadata": {},
   "source": [
    "SOTA LEADERBOARD (Google Speech Commands V2 35)\n",
    "Source: https://paperswithcode.com/sota/keyword-spotting-on-google-speech-commands?metric=Google%20Speech%20Commands%20V2%2035"
   ]
  },
  {
   "attachments": {},
   "cell_type": "markdown",
   "metadata": {},
   "source": [
    "| Model Name | Scores | Learning | Evaluation Type | \n",
    "| --- | --- | --- | --- |\n",
    "| M2D | 98.5 | Self-Supervised | Unknown | \n",
    "| EAT-S | 98.15 | Unknown | Unknown |\n",
    "| Audio Spectogram Transformer | 98.11 | Unknown | Unknown |\n",
    "| HTS-AT | 98.0 | Unknown | Unknown |\n",
    "| KWT2 | 97.74 +- 0.03 | Unknown | Unknown |"
   ]
  }
 ],
 "metadata": {
  "kernelspec": {
   "display_name": "Python 3",
   "language": "python",
   "name": "python3"
  },
  "language_info": {
   "codemirror_mode": {
    "name": "ipython",
    "version": 3
   },
   "file_extension": ".py",
   "mimetype": "text/x-python",
   "name": "python",
   "nbconvert_exporter": "python",
   "pygments_lexer": "ipython3",
   "version": "3.10.6"
  },
  "orig_nbformat": 4
 },
 "nbformat": 4,
 "nbformat_minor": 2
}
